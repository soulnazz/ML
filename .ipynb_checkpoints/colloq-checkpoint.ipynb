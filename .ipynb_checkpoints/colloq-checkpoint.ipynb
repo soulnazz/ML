{
 "cells": [
  {
   "cell_type": "code",
   "execution_count": null,
   "id": "c6a5f301-a0ca-47bd-a08c-81248cb8b4cb",
   "metadata": {},
   "outputs": [],
   "source": [
    "# Импорт необходимых библиотек"
   ]
  },
  {
   "cell_type": "code",
   "execution_count": null,
   "id": "b35e30d4-0958-4f3c-8b94-caa8c7f8856d",
   "metadata": {},
   "outputs": [],
   "source": [
    "# Загрузка датасета"
   ]
  },
  {
   "cell_type": "code",
   "execution_count": null,
   "id": "b2f14f95-a8d6-401b-8443-cca772c820ef",
   "metadata": {},
   "outputs": [],
   "source": [
    "# Исследование датасета"
   ]
  },
  {
   "cell_type": "code",
   "execution_count": null,
   "id": "13971a5f-95d4-48f4-a1d0-3a9f696f4a5d",
   "metadata": {},
   "outputs": [],
   "source": [
    "# Определение наличия пропущенных значений\n",
    "# Проверьте на содержвание символа \"_\" \n",
    "# Возможно некоторые стоблцы должны иметь числовое значение, но они имеют строковые значения. Обработайте\n",
    "# Если посчитаете нужным , можете удалить некоторые стоблцы. "
   ]
  },
  {
   "cell_type": "code",
   "execution_count": null,
   "id": "17a93ee9-136b-447c-883a-8d635e38be96",
   "metadata": {},
   "outputs": [],
   "source": [
    "# Визуализация данных "
   ]
  },
  {
   "cell_type": "code",
   "execution_count": null,
   "id": "b03cf8e5-bcc9-489c-bdef-5daa67ac66f4",
   "metadata": {},
   "outputs": [],
   "source": [
    "# Обучите модель алгоритмоми классификации: Log Reg, Decision Tree, Random Forest "
   ]
  },
  {
   "cell_type": "code",
   "execution_count": null,
   "id": "b69cbac2-88ac-40d5-9f93-6b2f36a4525b",
   "metadata": {},
   "outputs": [],
   "source": [
    "# Предсказание на тестовом наборе (например, accuracy, precision, recall, F1-score)."
   ]
  },
  {
   "cell_type": "code",
   "execution_count": null,
   "id": "68c20350-c436-4252-8427-d5229e48b8af",
   "metadata": {},
   "outputs": [],
   "source": [
    "# Проанализируйте результаты и сделайте выводы о качестве модели."
   ]
  },
  {
   "cell_type": "code",
   "execution_count": null,
   "id": "9153517b-8315-4e2a-b09e-c5c4466f443e",
   "metadata": {},
   "outputs": [],
   "source": []
  }
 ],
 "metadata": {
  "kernelspec": {
   "display_name": "Python 3 (ipykernel)",
   "language": "python",
   "name": "python3"
  },
  "language_info": {
   "codemirror_mode": {
    "name": "ipython",
    "version": 3
   },
   "file_extension": ".py",
   "mimetype": "text/x-python",
   "name": "python",
   "nbconvert_exporter": "python",
   "pygments_lexer": "ipython3",
   "version": "3.11.5"
  }
 },
 "nbformat": 4,
 "nbformat_minor": 5
}
